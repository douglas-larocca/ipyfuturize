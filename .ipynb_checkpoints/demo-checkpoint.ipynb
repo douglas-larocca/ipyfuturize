{
 "cells": [
  {
   "cell_type": "markdown",
   "metadata": {},
   "source": [
    "# ipyfuturize\n",
    "\n",
    "A cell magic for [futurize](http://python-future.org/futurize.html) (based on [2to3](https://docs.python.org/2/library/2to3.html))"
   ]
  },
  {
   "cell_type": "code",
   "execution_count": null,
   "metadata": {
    "collapsed": true
   },
   "outputs": [],
   "source": [
    "%install_ext https://raw.github.com/douglas-larocca/ipyfuturize/master/ipyfuturize.py"
   ]
  },
  {
   "cell_type": "code",
   "execution_count": 1,
   "metadata": {
    "collapsed": true
   },
   "outputs": [],
   "source": [
    "%load_ext ipyfuturize"
   ]
  },
  {
   "cell_type": "code",
   "execution_count": 6,
   "metadata": {
    "collapsed": false
   },
   "outputs": [
    {
     "name": "stdout",
     "output_type": "stream",
     "text": [
      "Usage: futurize [options] file|dir ...\r\n",
      "\r\n",
      "Options:\r\n",
      "  -h, --help            show this help message and exit\r\n",
      "  -V, --version         Report the version number of futurize\r\n",
      "  -a, --all-imports     Add all __future__ and future imports to each module\r\n",
      "  -1, --stage1          Modernize Python 2 code only; no compatibility with Python 3 (or dependency on\r\n",
      "                        ``future``)\r\n",
      "  -2, --stage2          Take modernized (stage1) code and add a dependency on ``future`` to provide Py3\r\n",
      "                        compatibility.\r\n",
      "  -0, --both-stages     Apply both stages 1 and 2\r\n",
      "  -u, --unicode-literals\r\n",
      "                        Add ``from __future__ import unicode_literals`` to implicitly convert all\r\n",
      "                        unadorned string literals '' into unicode strings\r\n",
      "  -f FIX, --fix=FIX     Each FIX specifies a transformation; default: all. Either use '-f division -f\r\n",
      "                        metaclass' etc. or use the fully-qualified module name: '-f\r\n",
      "                        lib2to3.fixes.fix_types -f libfuturize.fixes.fix_unicode_keep_u'\r\n",
      "  -j PROCESSES, --processes=PROCESSES\r\n",
      "                        Run 2to3 concurrently\r\n",
      "  -x NOFIX, --nofix=NOFIX\r\n",
      "                        Prevent a fixer from being run.\r\n",
      "  -l, --list-fixes      List available transformations\r\n",
      "  -p, --print-function  Modify the grammar so that print() is a function\r\n",
      "  -v, --verbose         More verbose logging\r\n",
      "  --no-diffs            Don't show diffs of the refactoring\r\n",
      "  -w, --write           Write back modified files\r\n",
      "  -n, --nobackups       Don't write backups for modified files.\r\n",
      "  -o OUTPUT_DIR, --output-dir=OUTPUT_DIR\r\n",
      "                        Put output files in this directory instead of overwriting the input files.\r\n",
      "                        Requires -n. For Python >= 2.7 only.\r\n",
      "  -W, --write-unchanged-files\r\n",
      "                        Also write files even if no changes were required (useful with --output-dir);\r\n",
      "                        implies -w.\r\n",
      "  --add-suffix=ADD_SUFFIX\r\n",
      "                        Append this string to all output filenames. Requires -n if non-empty. For Python\r\n",
      "                        >= 2.7 only.ex: --add-suffix='3' will generate .py3 files.\r\n"
     ]
    }
   ],
   "source": [
    "%%futurize?"
   ]
  },
  {
   "cell_type": "markdown",
   "metadata": {},
   "source": [
    "Example from [http://python-future.org/quickstart.html#to-convert-existing-python-2-code](http://python-future.org/quickstart.html#to-convert-existing-python-2-code)"
   ]
  },
  {
   "cell_type": "code",
   "execution_count": 2,
   "metadata": {
    "collapsed": false
   },
   "outputs": [
    {
     "data": {
      "application/javascript": [
       "\n",
       "        var cell = IPython.notebook.get_selected_cell();\n",
       "        var content = \"from __future__ import print_function\\nfrom future import standard_library\\nstandard_library.install_aliases()\\nfrom builtins import next\\nfrom builtins import object\\nimport configparser                 # Py2 module name\\n\\nclass Upper(object):\\n    def __init__(self, iterable):\\n        self._iter = iter(iterable)\\n    def __next__(self):                 # Py2-style iterator interface\\n        return next(self._iter).upper()\\n    def __iter__(self):\\n        return self\\n\\nitr = Upper('hello')\\nprint(next(itr), end=' ')\\nfor letter in itr:\\n    print(letter, end=' ')                   # Py2-style print statement\";\n",
       "        \n",
       "        cell.code_mirror.setValue(content);\n",
       "        "
      ],
      "text/plain": [
       "<IPython.core.display.Javascript object>"
      ]
     },
     "metadata": {},
     "output_type": "display_data"
    }
   ],
   "source": [
    "%%futurize\n",
    "import ConfigParser                 # Py2 module name\n",
    "\n",
    "class Upper(object):\n",
    "    def __init__(self, iterable):\n",
    "        self._iter = iter(iterable)\n",
    "    def next(self):                 # Py2-style iterator interface\n",
    "        return next(self._iter).upper()\n",
    "    def __iter__(self):\n",
    "        return self\n",
    "\n",
    "itr = Upper('hello')\n",
    "print next(itr),\n",
    "for letter in itr:\n",
    "    print letter,                   # Py2-style print statement"
   ]
  }
 ],
 "metadata": {
  "kernelspec": {
   "display_name": "Python 3",
   "language": "python",
   "name": "python3"
  },
  "language_info": {
   "codemirror_mode": {
    "name": "ipython",
    "version": 3
   },
   "file_extension": ".py",
   "mimetype": "text/x-python",
   "name": "python",
   "nbconvert_exporter": "python",
   "pygments_lexer": "ipython3",
   "version": "3.6.0a0"
  }
 },
 "nbformat": 4,
 "nbformat_minor": 0
}
